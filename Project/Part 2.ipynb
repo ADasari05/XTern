{
 "cells": [
  {
   "cell_type": "markdown",
   "id": "6daf3e1c-03b4-4246-9832-964cb0d60553",
   "metadata": {
    "collapsed": true,
    "jupyter": {
     "outputs_hidden": true
    }
   },
   "source": [
    "# Part 2\n",
    "\n",
    "## Consider implications of data collection, storage, and data biases you would consider relevant here considering Data Ethics, Business Outcomes, and Technical Implications\n",
    "- ## Discuss Ethical implications of these factors\n",
    "- ## Discuss Business outcome implications of these factors\n",
    "- ## Discuss Technical implications of these factors\n",
    "\n",
    "### Ethical Implications\n",
    "\n",
    "The ethical implications of data storage are a very hot issue in the field currently. For this application specifically, we are collecting potential identifying information that could be used to find a person's likely whereabouts at a certain time. Keeping this data private at all times is of the utmost importance. The risk of leaking, however, is relatively low. All we have to do is make sure that the csv file containing all the customers' names is not accessible to the public, which is extremely easy to do. Therefore, I believe this solution is in fact ethically sound.\n",
    "\n",
    "Another issue would be whether or not the customers consent to having their information stored and used in this way. This is easily circumventable, though: simply require them to acknowledge a privacy policy before trying to get the 10% discount, similar to how online applications do it. In this way, if they contribute to the model, they might be able to get the discount, but if they don't, they won't participate in the contest at all, which won't hurt the business.\n",
    "\n",
    "### Business Outcome\n",
    "\n",
    "This idea may be able to generate revenue by attracting new customers to try their luck at the 10% discount. As long as the accuracy of the prediction is high enough, the discount remains a fun contest for people to try with very little risk to the business' profits. As more people are enticed to go to the food truck nearest to them to take a chance at this contest, the dataset will grow in size, and trends will likely become even more pronounced, making the model more accurate. \n",
    "\n",
    "The biases reflected in the data may have a large impact on the business outcome of this idea, however. Because the food trucks may be in one area more than others, or on one campus more than others, the data in these less frequented areas may be more inaccurate, and therefore the model would be less effective. This would result in the trucks giving out the discount to more people, which would result in lesser profits.\n",
    "\n",
    "Using this model during high traffic times like lunch rush may also slow down the line as each person inputs their information and gets a result. This would result in less customers for the business, as people leave because the line is too long. We can fix this by limiting the times that the contest is available. It would be implemented at lower traffic times to drive up demand, and then taken out at high traffic times to drive up efficiency.\n",
    "\n",
    "### Technical Implications\n",
    "\n",
    "Over time, as the data set increases in size, it may become difficult to store. We can fix this by updating the dataset to only include a certain amount of time before the current date. This would also account for any error sparked by seasonal/yearly trends, because the information fed into the model would only be the past few weeks or so, so these trends would be accounted for.\n",
    "\n",
    "During high traffic times, it may also be hard for all the food trucks in the area to run this model at the same time if it is stored centrally. We can fix this by simply having a copy of the model locally at each truck."
   ]
  },
  {
   "cell_type": "code",
   "execution_count": null,
   "id": "d94e76f8-d7a2-4ceb-974f-a63ccb1cae3b",
   "metadata": {},
   "outputs": [],
   "source": []
  }
 ],
 "metadata": {
  "kernelspec": {
   "display_name": "Python 3 (ipykernel)",
   "language": "python",
   "name": "python3"
  },
  "language_info": {
   "codemirror_mode": {
    "name": "ipython",
    "version": 3
   },
   "file_extension": ".py",
   "mimetype": "text/x-python",
   "name": "python",
   "nbconvert_exporter": "python",
   "pygments_lexer": "ipython3",
   "version": "3.12.0"
  }
 },
 "nbformat": 4,
 "nbformat_minor": 5
}
