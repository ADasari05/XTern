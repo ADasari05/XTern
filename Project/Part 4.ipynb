{
 "cells": [
  {
   "cell_type": "markdown",
   "id": "180fea51-2206-44c7-a816-5eae916e2d2e",
   "metadata": {},
   "source": [
    "# Part 4\n",
    "\n",
    "## Given the work required to bring a solution like this to maturity and its performance, what considerations would you make to determine if this is a suitable course of action?\n",
    "\n",
    "Because there are so many factors in the implementation of this model, before actually making a final product I would do an analysis on the food trucks themselves. I would figure out the percentage accuracy that a model would theoretically need to have in order to boost the profits of the food truck in the first place. In doing so I would take into account different times of day, most in demand menu items, seasonal trends, proximity to on campus housing, and many other factors. I would then create a prototype of the model, similar to what this assessment entails, and test the accuracy of it. If it is greater than the minimum accuracy it needs to be, then it can simply be implemented immediately. If not, I would go through multiple iterations until it was, and then release it to the food trucks in small beta tests to validate my results."
   ]
  }
 ],
 "metadata": {
  "kernelspec": {
   "display_name": "Python 3 (ipykernel)",
   "language": "python",
   "name": "python3"
  },
  "language_info": {
   "codemirror_mode": {
    "name": "ipython",
    "version": 3
   },
   "file_extension": ".py",
   "mimetype": "text/x-python",
   "name": "python",
   "nbconvert_exporter": "python",
   "pygments_lexer": "ipython3",
   "version": "3.12.0"
  }
 },
 "nbformat": 4,
 "nbformat_minor": 5
}
